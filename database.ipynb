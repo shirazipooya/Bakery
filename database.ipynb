{
 "cells": [
  {
   "cell_type": "code",
   "execution_count": 22,
   "metadata": {},
   "outputs": [
    {
     "name": "stdout",
     "output_type": "stream",
     "text": [
      "    region  bakery_count\n",
      "0        1            54\n",
      "1        2           289\n",
      "2        3           276\n",
      "3        4           176\n",
      "4        5           124\n",
      "5        6           161\n",
      "6        7           143\n",
      "7        8            48\n",
      "8        9           124\n",
      "9       10           182\n",
      "10      11            66\n",
      "11      12            94\n",
      "12      13            28\n"
     ]
    }
   ],
   "source": [
    "from app import app\n",
    "from app.extensions import db\n",
    "from app.database.models import Bakery\n",
    "from sqlalchemy import func\n",
    "import pandas as pd\n",
    "\n",
    "with app.app_context():\n",
    "    \n",
    "    data = db.session.query(\n",
    "            Bakery.region,\n",
    "            func.count(Bakery.id)\n",
    "        ).group_by(Bakery.region).all()\n",
    "    \n",
    "    df = pd.DataFrame(data, columns=['region', 'bakery_count'])\n",
    "print(df)   \n",
    "# for row in result2:\n",
    "#     print(f\"Region: {row.region}, district: {row.district}, Bakery Count: {row.bread_rations}\")   \n"
   ]
  }
 ],
 "metadata": {
  "kernelspec": {
   "display_name": ".venv",
   "language": "python",
   "name": "python3"
  },
  "language_info": {
   "codemirror_mode": {
    "name": "ipython",
    "version": 3
   },
   "file_extension": ".py",
   "mimetype": "text/x-python",
   "name": "python",
   "nbconvert_exporter": "python",
   "pygments_lexer": "ipython3",
   "version": "3.12.3"
  }
 },
 "nbformat": 4,
 "nbformat_minor": 2
}
